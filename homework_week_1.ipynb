{
 "cells": [
  {
   "cell_type": "markdown",
   "metadata": {},
   "source": [
    "# Компьютерные технологии в науке и образовании\n",
    "\n",
    "## Домашнее задание week1\n",
    "\n",
    "___\n",
    "\n",
    "### НПМмд-01-19\n",
    "\n",
    "#### Студент: Мухамаду Хади Диалло (1032195419@rudn.ru)\n",
    "\n",
    "#### Преподаватель: Попов Владимир Алексеевич (popov-va@rudn.ru)\n",
    "\n",
    "\n",
    "_______\n",
    "\n",
    "## Написать программы:\n",
    "## 1. С клавиатуры вводится целое число. Программа должна вывести в консоль(команда print() ) слово 'Yes' - если число чётное и 'No'- если число нечётное.\n",
    "## НЕ использовать циклы, условные оператор, а только операции с целыми числами, канкатенацию строк и повторение n раз, а также ввод целых чисел с клавиатуры!"
   ]
  },
  {
   "cell_type": "code",
   "execution_count": 4,
   "metadata": {},
   "outputs": [
    {
     "name": "stdout",
     "output_type": "stream",
     "text": [
      "Enter an integer: 277\n",
      "result : No\n"
     ]
    }
   ],
   "source": [
    "n=int(input('Enter an integer: '))\n",
    "verify=n%2\n",
    "print('result : Yes'*(1-verify)+'result : No'*verify)"
   ]
  },
  {
   "cell_type": "markdown",
   "metadata": {},
   "source": [
    "## 2. С клавиатуры вводятся 2 целых числа. Программа должна вывести в консоль(команда print() ) слово 'Yes' - если первое число делится без остатка на второе число и 'No'- если не делится без остатка."
   ]
  },
  {
   "cell_type": "code",
   "execution_count": 32,
   "metadata": {},
   "outputs": [
    {
     "name": "stdout",
     "output_type": "stream",
     "text": [
      "Enter a first integer n1= 1992\n",
      "Enter a second integer n2= 7\n",
      "result : No\n"
     ]
    }
   ],
   "source": [
    "n1=int(input('Enter a first integer n1= '))\n",
    "n2=int(input('Enter a second integer n2= '))\n",
    "rest=n1%n2\n",
    "\n",
    "verify=int(round((rest/(1+rest)),0))\n",
    "print(\"result : Yes \"*(1-verify)+\"result : No\"*verify)"
   ]
  },
  {
   "cell_type": "markdown",
   "metadata": {},
   "source": [
    "## 5. Реализовать метод Ньютона в виде функции с аргументами: функция f, начальное приближение x_0, либо точность либо количество итераций либо гибрид. Обязательно использовать библиотеки sympy, matplotlib"
   ]
  },
  {
   "cell_type": "code",
   "execution_count": 16,
   "metadata": {},
   "outputs": [],
   "source": [
    "from sympy import solve, Eq,lambdify, init_printing, Derivative, diff\n",
    "import sympy as sp\n",
    "import numpy as np\n",
    "import matplotlib.pyplot as plt\n",
    "init_printing()"
   ]
  },
  {
   "cell_type": "code",
   "execution_count": 98,
   "metadata": {},
   "outputs": [
    {
     "data": {
      "image/png": "[encoded data removed]",
      "text/latex": [
       "$\\displaystyle x^{2} + 2 x + 1$"
      ],
      "text/plain": [
       " 2          \n",
       "x  + 2⋅x + 1"
      ]
     },
     "execution_count": 98,
     "metadata": {},
     "output_type": "execute_result"
    }
   ],
   "source": [
    "# define expression \n",
    "x,y,t,z=sp.symbols('x,y,t,z')\n",
    "expr_1=x**2+2*x+1\n",
    "expr_1"
   ]
  },
  {
   "cell_type": "code",
   "execution_count": 28,
   "metadata": {},
   "outputs": [
    {
     "data": {
      "image/png": "[encoded data removed]",
      "text/latex": [
       "$\\displaystyle 1$"
      ],
      "text/plain": [
       "1"
      ]
     },
     "execution_count": 28,
     "metadata": {},
     "output_type": "execute_result"
    }
   ],
   "source": [
    "# define function f\n",
    "f = lambdify(x, expr_1 , \"numpy\")\n",
    "f(0)"
   ]
  },
  {
   "cell_type": "code",
   "execution_count": 12,
   "metadata": {},
   "outputs": [
    {
     "data": {
      "image/png": "[encoded data removed]",
      "text/latex": [
       "$\\displaystyle \\left[ -1\\right]$"
      ],
      "text/plain": [
       "[-1]"
      ]
     },
     "execution_count": 12,
     "metadata": {},
     "output_type": "execute_result"
    }
   ],
   "source": [
    "# roots equation \n",
    "roots=solve(expr_1,x)\n",
    "roots"
   ]
  },
  {
   "cell_type": "code",
   "execution_count": 20,
   "metadata": {},
   "outputs": [
    {
     "data": {
      "image/png": "[encoded data removed]",
      "text/latex": [
       "$\\displaystyle \\frac{d}{d x} \\left(x^{2} + 2 x + 1\\right)$"
      ],
      "text/plain": [
       "d ⎛ 2          ⎞\n",
       "──⎝x  + 2⋅x + 1⎠\n",
       "dx              "
      ]
     },
     "execution_count": 20,
     "metadata": {},
     "output_type": "execute_result"
    }
   ],
   "source": [
    "## derivative \n",
    "f_dash_expr=Derivative(expr_1,x,1) ## expr_1.diff(x, 1)\n",
    "f_dash_expr"
   ]
  },
  {
   "cell_type": "code",
   "execution_count": 26,
   "metadata": {},
   "outputs": [
    {
     "data": {
      "image/png": "[encoded data removed]",
      "text/latex": [
       "$\\displaystyle 2 x + 2$"
      ],
      "text/plain": [
       "2⋅x + 2"
      ]
     },
     "execution_count": 26,
     "metadata": {},
     "output_type": "execute_result"
    }
   ],
   "source": [
    "## f dash\n",
    "f_dash=f_dash_expr.doit()\n",
    "f_dash"
   ]
  },
  {
   "cell_type": "code",
   "execution_count": 59,
   "metadata": {},
   "outputs": [
    {
     "data": {
      "text/plain": [
       "sympy.core.add.Add"
      ]
     },
     "execution_count": 59,
     "metadata": {},
     "output_type": "execute_result"
    }
   ],
   "source": [
    "type(f_dash)"
   ]
  },
  {
   "cell_type": "code",
   "execution_count": 62,
   "metadata": {},
   "outputs": [
    {
     "data": {
      "image/png": "[encoded data removed]",
      "text/plain": [
       "<Figure size 432x288 with 1 Axes>"
      ]
     },
     "metadata": {
      "needs_background": "light"
     },
     "output_type": "display_data"
    }
   ],
   "source": [
    "# graphics\n",
    "x_points=np.linspace(-5,5,10)\n",
    "plt.plot(x_points, f(x_points),c='red', label=\"f(x)\")\n",
    "#plt.plot(x_points, f_dash(x_points),c='blue', label=\"f'(x)\")\n",
    "plt.plot(x_points, 2*x_points+2,c='blue', label=\"f'(x)\")\n",
    "plt.grid()\n",
    "plt.legend()\n",
    "plt.show()"
   ]
  },
  {
   "cell_type": "markdown",
   "metadata": {},
   "source": [
    "#### метод Ньютона в виде функции с аргументами"
   ]
  },
  {
   "cell_type": "code",
   "execution_count": 52,
   "metadata": {},
   "outputs": [],
   "source": [
    "def NewtonRoot(g,x0=1,nb_iter=100) :\n",
    "    \n",
    "    g_diff=lambda t: sp.diff(f(x),x).evalf(subs={x:t})\n",
    "    \n",
    "    # newton algorithm\n",
    "    for i in range(1,nb_iter+1) :\n",
    "        x0=x0-g(x0)/g_diff(x0)\n",
    "        if (i==nb_iter) :\n",
    "            return round(x0,5)"
   ]
  },
  {
   "cell_type": "code",
   "execution_count": 55,
   "metadata": {},
   "outputs": [
    {
     "name": "stdout",
     "output_type": "stream",
     "text": [
      "x0= -1.0  f(x)= 0.0\n"
     ]
    }
   ],
   "source": [
    "print('x0=', NewtonRoot(f),' f(x)=',f(NewtonRoot(f)))"
   ]
  },
  {
   "cell_type": "markdown",
   "metadata": {},
   "source": [
    "# 6) Найти H длину высоты, опущенной из вершины  $A_4$ на грань $A_1A_2A_3$"
   ]
  },
  {
   "cell_type": "code",
   "execution_count": 66,
   "metadata": {},
   "outputs": [
    {
     "name": "stdout",
     "output_type": "stream",
     "text": [
      "n1=  [-27  18  27] \n",
      "n2=  [72 18 -6]\n"
     ]
    }
   ],
   "source": [
    "# points\n",
    "A_1 = np.array([-2, -2, -6])\n",
    "A_2 = np.array([2, -5, 0])\n",
    "A_3 = np.array([-1, 4, -9])\n",
    "A_4 = np.array([0, 3, 0])\n",
    "\n",
    "# vectors\n",
    "A12= A_2 - A_1\n",
    "A13= A_3 - A_1\n",
    "A23 = A_3 - A_2\n",
    "A24 = A_4 - A_2\n",
    "\n",
    "# normal vectors \n",
    "n1 = np.cross(A12, A13) # plan A1A2A3\n",
    "n2 = np.cross(A23, A24) # plan A2A3A4\n",
    "print('n1= ',n1, '\\n' 'n2= ',n2)"
   ]
  },
  {
   "cell_type": "markdown",
   "metadata": {},
   "source": [
    "H is the distance between the point $A_4$ and the plane $A_1 A_2 A_3$ : \n",
    "\n",
    "$H=\\frac{|\\vec{n1}.\\vec{A_1A_4}|}{||\\overrightarrow{n1}||}$"
   ]
  },
  {
   "cell_type": "code",
   "execution_count": 69,
   "metadata": {},
   "outputs": [
    {
     "name": "stdout",
     "output_type": "stream",
     "text": [
      "H длину высоты = 4.69042\n"
     ]
    }
   ],
   "source": [
    "A14=A_4-A_1\n",
    "H=abs(np.dot(n1, A14))/np.sqrt((np.dot(n1, n1)))\n",
    "print(\"H длину высоты =\",round(H,5))"
   ]
  },
  {
   "cell_type": "markdown",
   "metadata": {},
   "source": [
    "# 7) Координаты точки $A_5$ симметричной $A_4$ относительно грани $A_1A_2A_3$"
   ]
  },
  {
   "cell_type": "markdown",
   "metadata": {},
   "source": [
    "$H=\\frac{|\\vec{n1}.\\vec{A_1A_4}|}{||\\overrightarrow{n1}||}=\\frac{|\\vec{n1}.\\vec{A_1A_5}|}{||\\overrightarrow{n1}||}$\n",
    "\n",
    "therefore $A_4A_1^2=A_5A_1^2$, $\\vec{A_4A_1}=-\\vec{A_5A_1}$"
   ]
  },
  {
   "cell_type": "code",
   "execution_count": 77,
   "metadata": {},
   "outputs": [
    {
     "name": "stdout",
     "output_type": "stream",
     "text": [
      "Координаты точки  𝐴5 = [ 0 -3  0]\n"
     ]
    }
   ],
   "source": [
    "A41=A_1-A_4\n",
    "A_5=A41-A_1\n",
    "print('Координаты точки  𝐴5 =',A_5)"
   ]
  },
  {
   "cell_type": "markdown",
   "metadata": {},
   "source": [
    "# 8) Координаты точки $A_6$ симметричной $A_4$ относительно прямой $A_2A_3$\n"
   ]
  },
  {
   "cell_type": "markdown",
   "metadata": {},
   "source": [
    "$\\vec{A_4A_6}.\\vec{A_2A_3}=0$\n",
    "\n",
    "Let $A_6=(x,y,t)$"
   ]
  },
  {
   "cell_type": "code",
   "execution_count": 82,
   "metadata": {},
   "outputs": [
    {
     "data": {
      "image/png": "[encoded data removed]",
      "text/latex": [
       "$\\displaystyle \\left[ - 9 t - 9 y + 27 = 0, \\  - 3 t + 9 x = 0, \\  9 x + 3 y - 9 = 0\\right]$"
      ],
      "text/plain": [
       "[-9⋅t - 9⋅y + 27 = 0, -3⋅t + 9⋅x = 0, 9⋅x + 3⋅y - 9 = 0]"
      ]
     },
     "execution_count": 82,
     "metadata": {},
     "output_type": "execute_result"
    }
   ],
   "source": [
    "A_6=np.array([x,y,t])\n",
    "A46=A_6-A_4\n",
    "expr=np.cross(A46,A23)\n",
    "\n",
    "equations = [\n",
    "    sp.Eq( expr[0], 0),\n",
    "    sp.Eq( expr[1], 0),\n",
    "    sp.Eq(expr[2],0)\n",
    "]\n",
    "equations"
   ]
  },
  {
   "cell_type": "code",
   "execution_count": 99,
   "metadata": {},
   "outputs": [
    {
     "data": {
      "image/png": "[encoded data removed]",
      "text/latex": [
       "$\\displaystyle \\left\\{ x : \\frac{t}{3}, \\  y : 3 - t\\right\\}$"
      ],
      "text/plain": [
       "⎧   t          ⎫\n",
       "⎨x: ─, y: 3 - t⎬\n",
       "⎩   3          ⎭"
      ]
     },
     "execution_count": 99,
     "metadata": {},
     "output_type": "execute_result"
    }
   ],
   "source": [
    "A6=sp.solve(equations,[x,y,t])\n",
    "A6"
   ]
  },
  {
   "cell_type": "code",
   "execution_count": 100,
   "metadata": {},
   "outputs": [
    {
     "data": {
      "image/png": "[encoded data removed]",
      "text/latex": [
       "$\\displaystyle \\left[ \\frac{z}{3}, \\  3 - z, \\  z\\right]$"
      ],
      "text/plain": [
       "⎡z          ⎤\n",
       "⎢─, 3 - z, z⎥\n",
       "⎣3          ⎦"
      ]
     },
     "execution_count": 100,
     "metadata": {},
     "output_type": "execute_result"
    }
   ],
   "source": [
    "t=z\n",
    "A_6=[t/3,3-t,t]\n",
    "A_6"
   ]
  },
  {
   "cell_type": "code",
   "execution_count": 102,
   "metadata": {},
   "outputs": [
    {
     "data": {
      "image/png": "[encoded data removed]",
      "text/latex": [
       "$\\displaystyle \\left[ 0\\right]$"
      ],
      "text/plain": [
       "[0]"
      ]
     },
     "execution_count": 102,
     "metadata": {},
     "output_type": "execute_result"
    }
   ],
   "source": [
    "A46=A_6-A_4\n",
    "expr=np.dot(A46,A23)\n",
    "expr\n",
    "solve(sp.Eq(expr,0))"
   ]
  },
  {
   "cell_type": "markdown",
   "metadata": {},
   "source": [
    "# 9) Найти расстояние $D_1$  между точкой $A_4$ и прямой $A_2A_3$"
   ]
  },
  {
   "cell_type": "markdown",
   "metadata": {},
   "source": [
    "The projection of the vector u onto v is the vector :  \n",
    "#### $proj_vu=\\frac{u.v}{v^2}.v$\n",
    "Therefore, the distance between a point $A_4$ to a line passing through the points $A_2$, $A_3$ is :\n",
    "\n",
    "#### $D_1=|\\vec{u}-proj_v\\vec{u}|$, where $A_4A_2=u$ and $A_2A_3=v$"
   ]
  },
  {
   "cell_type": "code",
   "execution_count": 105,
   "metadata": {},
   "outputs": [
    {
     "name": "stdout",
     "output_type": "stream",
     "text": [
      "Distance D1= 8.22\n"
     ]
    }
   ],
   "source": [
    "A42=A_2-A_4\n",
    "A23=A_3-A_2\n",
    "projection=(np.dot(A42,A23)/np.dot(A23,A23)**2)*A23\n",
    "D_1=np.sqrt(np.dot(A42-projection,A42-projection))\n",
    "\n",
    "print(\"Distance D1=\",round(D_1,2))"
   ]
  },
  {
   "cell_type": "markdown",
   "metadata": {},
   "source": [
    "# 10) Найти расстояние $D_2$  между рёбрами $A_1A_3$ и прямой $A_2A_4$"
   ]
  },
  {
   "cell_type": "markdown",
   "metadata": {},
   "source": [
    "We apply the same formula as question 9), w'll have the minimum distance"
   ]
  },
  {
   "cell_type": "code",
   "execution_count": 107,
   "metadata": {},
   "outputs": [
    {
     "name": "stdout",
     "output_type": "stream",
     "text": [
      "Distance D2= 7.78\n"
     ]
    }
   ],
   "source": [
    "A12=A_2-A_1\n",
    "A24=A_4-A_2\n",
    "projection=(np.dot(A12,A24)/np.dot(A24,A24)**2)*A24\n",
    "D_2=np.sqrt(np.dot(A12-projection,A12-projection))\n",
    "\n",
    "print(\"Distance D2=\",round(D_2,2))"
   ]
  },
  {
   "cell_type": "markdown",
   "metadata": {},
   "source": [
    "# 11) Найти радиус и координаты центра шара, описанного вокруг пирамиды"
   ]
  },
  {
   "cell_type": "markdown",
   "metadata": {},
   "source": [
    "Let M be the unknown point belonging to the ball, and $R$ be the radius,  \n",
    "\n",
    "and $O$ be the center. then\n",
    "$M=(x,y,z)$, $O=(x_O,y_0,z_0)$. The ball verify : $OM=R$"
   ]
  },
  {
   "cell_type": "code",
   "execution_count": 110,
   "metadata": {},
   "outputs": [
    {
     "data": {
      "image/png": "[encoded data removed]",
      "text/latex": [
       "$\\displaystyle \\left(x - x_{0}\\right)^{2} + \\left(y - y_{0}\\right)^{2} + \\left(z - z_{0}\\right)^{2} = R^{2}$"
      ],
      "text/plain": [
       "        2           2           2    2\n",
       "(x - x₀)  + (y - y₀)  + (z - z₀)  = R "
      ]
     },
     "execution_count": 110,
     "metadata": {},
     "output_type": "execute_result"
    }
   ],
   "source": [
    "x0,y0,z0,R=sp.symbols(\"x0,y0,z0,R\")\n",
    "sph_eq=sp.Eq((x-x0)**2+(y-y0)**2+(z-z0)**2,R**2)\n",
    "sph_eq"
   ]
  },
  {
   "cell_type": "markdown",
   "metadata": {},
   "source": [
    "All the pyramidal points $A_1,A_2,A_3,A_4$ must verify this equation,  \n",
    "\n",
    "therefore, we can find our four unknowns $(x_O,y_0,z_0, R)$"
   ]
  },
  {
   "cell_type": "code",
   "execution_count": 114,
   "metadata": {},
   "outputs": [
    {
     "data": {
      "image/png": "[encoded data removed]",
      "text/latex": [
       "$\\displaystyle \\left[ \\left\\{ R : - \\frac{\\sqrt{3145}}{6}, \\  x_{0} : 7, \\  y_{0} : \\frac{1}{2}, \\  z_{0} : - \\frac{17}{3}\\right\\}, \\  \\left\\{ R : \\frac{\\sqrt{3145}}{6}, \\  x_{0} : 7, \\  y_{0} : \\frac{1}{2}, \\  z_{0} : - \\frac{17}{3}\\right\\}\\right]$"
      ],
      "text/plain": [
       "⎡⎧   -√3145                            ⎫  ⎧   √3145                           \n",
       "⎢⎨R: ───────, x₀: 7, y₀: 1/2, z₀: -17/3⎬, ⎨R: ─────, x₀: 7, y₀: 1/2, z₀: -17/3\n",
       "⎣⎩      6                              ⎭  ⎩     6                             \n",
       "\n",
       "⎫⎤\n",
       "⎬⎥\n",
       "⎭⎦"
      ]
     },
     "execution_count": 114,
     "metadata": {},
     "output_type": "execute_result"
    }
   ],
   "source": [
    "syst_eq=[ sp.Eq((A_1[0]-x0)**2+(A_1[1]-y0)**2+(A_1[2]-z0)**2,R**2),\n",
    "         sp.Eq((A_2[0]-x0)**2+(A_2[1]-y0)**2+(A_2[2]-z0)**2,R**2),\n",
    "         sp.Eq((A_3[0]-x0)**2+(A_3[1]-y0)**2+(A_3[2]-z0)**2,R**2),\n",
    "         sp.Eq((A_4[0]-x0)**2+(A_4[1]-y0)**2+(A_4[2]-z0)**2,R**2)\n",
    "]\n",
    "solution=solve(syst_eq)\n",
    "solution"
   ]
  },
  {
   "cell_type": "code",
   "execution_count": 113,
   "metadata": {},
   "outputs": [
    {
     "name": "stdout",
     "output_type": "stream",
     "text": [
      "радиус и координаты центра шара =  {R: sqrt(3145)/6, x0: 7, y0: 1/2, z0: -17/3}\n"
     ]
    }
   ],
   "source": [
    "print(\"радиус и координаты центра шара = \",solution[1])"
   ]
  },
  {
   "cell_type": "code",
   "execution_count": null,
   "metadata": {},
   "outputs": [],
   "source": []
  }
 ],
 "metadata": {
  "kernelspec": {
   "display_name": "Python 3",
   "language": "python",
   "name": "python3"
  },
  "language_info": {
   "codemirror_mode": {
    "name": "ipython",
    "version": 3
   },
   "file_extension": ".py",
   "mimetype": "text/x-python",
   "name": "python",
   "nbconvert_exporter": "python",
   "pygments_lexer": "ipython3",
   "version": "3.7.3"
  }
 },
 "nbformat": 4,
 "nbformat_minor": 2
}
