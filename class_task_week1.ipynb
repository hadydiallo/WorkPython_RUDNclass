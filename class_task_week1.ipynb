{
 "cells": [
  {
   "cell_type": "markdown",
   "metadata": {},
   "source": [
    "### Нейронные сети\n",
    "___\n",
    "##### НПМмд-01-19\n",
    "##### преподаватель : Аносова Наталья Павловна\n",
    "##### Студент: Мухамаду Хади Диалло\n",
    "____\n",
    "#### Домашнее задание : week 1\n",
    "\n",
    "##### 1)Для первой обучающей выборки построить и обучить сеть типа персептрон Розенблата, которая будет правильно относить точки к двум различным классам. Отобразить эти точки и дискриминантную линию до начла обучения (при начальном задании весов) и после обучения.\n",
    "#####  2) Изменить обучающее множество так, чтобы множества стали линейно не разделимы.\n",
    "#####  3) Для второй обучающей выборки построить и обучить сеть, которая будет правильно относить точки к четырем заданным классам. Отобразить на графике как сами точки, обозначив к какому из классов они относятся, так и дискриминантные линии.\n",
    "\n",
    "_____"
   ]
  },
  {
   "cell_type": "markdown",
   "metadata": {},
   "source": [
    "##### 1)Для первой обучающей выборки построить и обучить сеть типа персептрон Розенблата, которая будет правильно относить точки к двум различным классам. Отобразить эти точки и дискриминантную линию до начла обучения (при начальном задании весов) и после обучения."
   ]
  },
  {
   "cell_type": "code",
   "execution_count": 2,
   "metadata": {},
   "outputs": [],
   "source": [
    "# module\n",
    "import numpy as np\n",
    "import matplotlib.pyplot as plt\n",
    "import pandas as pd"
   ]
  },
  {
   "cell_type": "code",
   "execution_count": 7,
   "metadata": {},
   "outputs": [],
   "source": [
    "# data from the file\n",
    "X=np.array(([2.6, 3.6, 0.1, 0.8, -3.1, 2.4],\n",
    "            [-3.4, 4.8, 3.8, -3.5, -1, 3.2]))\n",
    "\n",
    "Y=np.array(([1, 1, 0, 0, 0, 1]))"
   ]
  },
  {
   "cell_type": "code",
   "execution_count": 8,
   "metadata": {},
   "outputs": [
    {
     "name": "stdout",
     "output_type": "stream",
     "text": [
      "(6, 2)\n",
      "(6, 1)\n"
     ]
    }
   ],
   "source": [
    "data_X=pd.DataFrame(X)\n",
    "data_Y=pd.DataFrame(Y)\n",
    "X=data_X.T.loc[:]\n",
    "Y=data_Y.loc[:]\n",
    "X=X.values\n",
    "Y=Y.values\n",
    "print(X.shape)\n",
    "print(Y.shape)"
   ]
  },
  {
   "cell_type": "code",
   "execution_count": 9,
   "metadata": {},
   "outputs": [
    {
     "data": {
      "text/plain": [
       "<matplotlib.collections.PathCollection at 0x152e902d390>"
      ]
     },
     "execution_count": 9,
     "metadata": {},
     "output_type": "execute_result"
    },
    {
     "data": {
      "image/png": "[encoded data removed]",
      "text/plain": [
       "<Figure size 432x288 with 1 Axes>"
      ]
     },
     "metadata": {
      "needs_background": "light"
     },
     "output_type": "display_data"
    }
   ],
   "source": [
    "plt.scatter(X[:,0],X[:,1],c='y')"
   ]
  },
  {
   "cell_type": "code",
   "execution_count": 3,
   "metadata": {},
   "outputs": [],
   "source": [
    "# step function\n",
    "def stepfunction (t) :\n",
    "    return 1 if (t>=0) else 0"
   ]
  },
  {
   "cell_type": "code",
   "execution_count": 21,
   "metadata": {},
   "outputs": [],
   "source": [
    "# prediction \n",
    "def prediction(X,w,b) :\n",
    "    return stepfunction((np.matmul(X,w)+b)[0])\n",
    "\n",
    "# The perceptron\n",
    "def perceptronStep(X,Y,w,b, alpha=0.1) :\n",
    "    for i in range(len(X)): \n",
    "        y_pred=prediction(X[i],w,b)\n",
    "        if (Y[i]-y_pred==1) :\n",
    "            w[0]+=X[i][0]*alpha\n",
    "            w[1]+=X[i][1]*alpha\n",
    "            b+=alpha\n",
    "        elif (Y[i]-y_pred==-1) :\n",
    "            w[0]-=X[i][0]*alpha\n",
    "            w[1]-=X[i][1]*alpha\n",
    "            b-=alpha\n",
    "    return w,b\n",
    "\n",
    "# Training perceptron Algorithm\n",
    "\n",
    "def trainPerceptronAlgo(X,Y,nb_iteration,alpha=0.1) :\n",
    "    x_max=max(X.T[0])\n",
    "    w=np.array(np.random.rand(2,1))\n",
    "    b=np.random.rand(1)[0]+x_max\n",
    "    boundary_lines=[]\n",
    "    for i in range(nb_iteration) :\n",
    "        w,b=perceptronStep(X,Y,w,b,alpha)\n",
    "        boundary_lines.append(((-w[0]/w[1]),-b/w[1]))\n",
    "    return boundary_lines"
   ]
  },
  {
   "cell_type": "code",
   "execution_count": 39,
   "metadata": {},
   "outputs": [
    {
     "data": {
      "image/png": "[encoded data removed]",
      "text/plain": [
       "<Figure size 432x288 with 1 Axes>"
      ]
     },
     "metadata": {
      "needs_background": "light"
     },
     "output_type": "display_data"
    }
   ],
   "source": [
    "result1=trainPerceptronAlgo(X,Y,alpha=0.0,nb_iteration=1)\n",
    "\n",
    "plt.scatter(X[:,0],X[:,1],c='y')\n",
    "vals=result1[-1]\n",
    "theta=result1[0][0]\n",
    "intercept=vals[1][0]\n",
    "y_pred=X*theta+intercept\n",
    "plt.plot(X,y_pred,color=\"red\")\n",
    "plt.title(\"при начальном задании весов\")\n",
    "plt.show()\n"
   ]
  },
  {
   "cell_type": "code",
   "execution_count": 36,
   "metadata": {},
   "outputs": [
    {
     "data": {
      "image/png": "[encoded data removed]",
      "text/plain": [
       "<Figure size 432x288 with 1 Axes>"
      ]
     },
     "metadata": {
      "needs_background": "light"
     },
     "output_type": "display_data"
    }
   ],
   "source": [
    "nb_iteration=100\n",
    "result=trainPerceptronAlgo(X,Y,alpha=0.02,nb_iteration=100)\n",
    "plt.scatter(X[:,0],X[:,1],c='y')\n",
    "vals=result[-1]\n",
    "theta=result[0][0]\n",
    "intercept=vals[1][0]\n",
    "y_pred=X*theta+intercept\n",
    "plt.plot(X,y_pred,color=\"red\")\n",
    "plt.title(\"после обучения : nb_iteration=%d\"%nb_iteration)\n",
    "plt.show()"
   ]
  },
  {
   "cell_type": "markdown",
   "metadata": {},
   "source": [
    "#####  2) Изменить обучающее множество так, чтобы множества стали линейно не разделимы."
   ]
  },
  {
   "cell_type": "code",
   "execution_count": 56,
   "metadata": {},
   "outputs": [
    {
     "name": "stdout",
     "output_type": "stream",
     "text": [
      "(6, 2)\n"
     ]
    }
   ],
   "source": [
    "X1=np.linspace(-2,2,6)\n",
    "X2=X1*np.sqrt(X1**2+1)-2\n",
    "X3=np.array((X1,X2))\n",
    "X=pd.DataFrame(X3.T)\n",
    "X=X.loc[:]\n",
    "X=X.values\n",
    "print(X.shape)"
   ]
  },
  {
   "cell_type": "code",
   "execution_count": 57,
   "metadata": {},
   "outputs": [
    {
     "data": {
      "text/plain": [
       "<matplotlib.collections.PathCollection at 0x152ea47e470>"
      ]
     },
     "execution_count": 57,
     "metadata": {},
     "output_type": "execute_result"
    },
    {
     "data": {
      "image/png": "[encoded data removed]",
      "text/plain": [
       "<Figure size 432x288 with 1 Axes>"
      ]
     },
     "metadata": {
      "needs_background": "light"
     },
     "output_type": "display_data"
    }
   ],
   "source": [
    "plt.scatter(X[:,0],X[:,1],c='y')"
   ]
  },
  {
   "cell_type": "code",
   "execution_count": 58,
   "metadata": {},
   "outputs": [
    {
     "data": {
      "image/png": "[encoded data removed]",
      "text/plain": [
       "<Figure size 432x288 with 1 Axes>"
      ]
     },
     "metadata": {
      "needs_background": "light"
     },
     "output_type": "display_data"
    }
   ],
   "source": [
    "result1=trainPerceptronAlgo(X,Y,alpha=0.0,nb_iteration=1)\n",
    "\n",
    "plt.scatter(X[:,0],X[:,1],c='y')\n",
    "vals=result1[-1]\n",
    "theta=result1[0][0]\n",
    "intercept=vals[1][0]\n",
    "y_pred=X*theta+intercept\n",
    "plt.plot(X,y_pred,color=\"red\")\n",
    "plt.title(\"при начальном задании весов\")\n",
    "plt.show()"
   ]
  },
  {
   "cell_type": "code",
   "execution_count": 59,
   "metadata": {},
   "outputs": [
    {
     "data": {
      "image/png": "[encoded data removed]",
      "text/plain": [
       "<Figure size 432x288 with 1 Axes>"
      ]
     },
     "metadata": {
      "needs_background": "light"
     },
     "output_type": "display_data"
    }
   ],
   "source": [
    "nb_iteration=100\n",
    "result=trainPerceptronAlgo(X,Y,alpha=0.02,nb_iteration=100)\n",
    "plt.scatter(X[:,0],X[:,1],c='y')\n",
    "vals=result[-1]\n",
    "theta=result[0][0]\n",
    "intercept=vals[1][0]\n",
    "y_pred=X*theta+intercept\n",
    "plt.plot(X,y_pred,color=\"red\")\n",
    "plt.title(\"после обучения : nb_iteration=%d\"%nb_iteration)\n",
    "plt.show()"
   ]
  },
  {
   "cell_type": "markdown",
   "metadata": {},
   "source": [
    "#####  3) Для второй обучающей выборки построить и обучить сеть, которая будет правильно относить точки к четырем заданным классам. Отобразить на графике как сами точки, обозначив к какому из классов они относятся, так и дискриминантные линии.\n"
   ]
  },
  {
   "cell_type": "code",
   "execution_count": 63,
   "metadata": {},
   "outputs": [
    {
     "name": "stdout",
     "output_type": "stream",
     "text": [
      "(8, 2)\n",
      "(8, 2)\n"
     ]
    }
   ],
   "source": [
    "# new data from the file\n",
    "X=np.array(([-1.6 ,2.9 ,1.8 ,-4.5 ,-4.6 ,2.2 ,3.7 ,-4.3],\n",
    "            [2.3 ,0.4 ,3.9 ,-2 ,-3.1 ,2.2 ,0.8,4.2]))\n",
    "\n",
    "Y=np.array(([0,1,1,0,0,1,1,0],[0,1,0,1,1,1,1,0]))\n",
    "data_X=pd.DataFrame(X)\n",
    "data_Y=pd.DataFrame(Y)\n",
    "X=data_X.T.loc[:]\n",
    "Y=data_Y.T.loc[:]\n",
    "X=X.values\n",
    "Y=Y.values\n",
    "print(X.shape)\n",
    "print(Y.shape)"
   ]
  },
  {
   "cell_type": "code",
   "execution_count": 64,
   "metadata": {},
   "outputs": [
    {
     "data": {
      "text/plain": [
       "<matplotlib.collections.PathCollection at 0x152e932e898>"
      ]
     },
     "execution_count": 64,
     "metadata": {},
     "output_type": "execute_result"
    },
    {
     "data": {
      "image/png": "[encoded data removed]",
      "text/plain": [
       "<Figure size 432x288 with 1 Axes>"
      ]
     },
     "metadata": {
      "needs_background": "light"
     },
     "output_type": "display_data"
    }
   ],
   "source": [
    "plt.scatter(X[:,0],X[:,1],c='y')"
   ]
  },
  {
   "cell_type": "code",
   "execution_count": 70,
   "metadata": {},
   "outputs": [],
   "source": [
    "# prediction \n",
    "def prediction(X,w,b) :\n",
    "    return stepfunction((np.matmul(X,w)+b)[0])\n",
    "\n",
    "# The perceptron\n",
    "def perceptronStep(X,Y,w,b, alpha=0.1) :\n",
    "    for i in range(len(X)): \n",
    "        y_pred=prediction(X[i],w,b)\n",
    "        if (Y[i][0]==Y[i][1]): \n",
    "            if (Y[i][0]-y_pred==1) :\n",
    "                w[0]+=X[i][0]*alpha\n",
    "                w[1]+=X[i][1]*alpha\n",
    "                b+=alpha\n",
    "            elif (Y[i][0]-y_pred==-1) :\n",
    "                w[0]-=X[i][0]*alpha\n",
    "                w[1]-=X[i][1]*alpha\n",
    "                b-=alpha\n",
    "        elif (Y[i][0]!=Y[i][1]) :\n",
    "            if (Y[i][0]-y_pred==1) :\n",
    "                w[0]+=X[i][0]*alpha\n",
    "                w[1]+=X[i][1]*alpha\n",
    "                b+=alpha\n",
    "            elif (Y[i][0]-y_pred==-1) :\n",
    "                w[0]-=X[i][0]*alpha\n",
    "                w[1]-=X[i][1]*alpha\n",
    "                b-=alpha\n",
    "            elif (Y[i][1]-y_pred==1) :\n",
    "                w[0]+=X[i][0]*alpha\n",
    "                w[1]+=X[i][1]*alpha\n",
    "                b+=alpha\n",
    "            elif (Y[i][1]-y_pred==-1) :\n",
    "                w[0]-=X[i][0]*alpha\n",
    "                w[1]-=X[i][1]*alpha\n",
    "                b-=alpha\n",
    "    return w,b\n",
    "\n",
    "# Training perceptron Algorithm\n",
    "\n",
    "def trainPerceptronAlgo(X,Y,nb_iteration,alpha=0.02) :\n",
    "    x_max=max(X.T[0])\n",
    "    w=np.array(np.random.rand(2,1))\n",
    "    b=np.random.rand(1)[0]+x_max\n",
    "    boundary_lines=[]\n",
    "    for i in range(nb_iteration) :\n",
    "        w,b=perceptronStep(X,Y,w,b,alpha)\n",
    "        boundary_lines.append(((-w[0]/w[1]),-b/w[1]))\n",
    "    return boundary_lines"
   ]
  },
  {
   "cell_type": "code",
   "execution_count": 72,
   "metadata": {},
   "outputs": [
    {
     "data": {
      "text/plain": [
       "[(array([-0.88331096]), array([-12.692858]))]"
      ]
     },
     "execution_count": 72,
     "metadata": {},
     "output_type": "execute_result"
    }
   ],
   "source": [
    "trainPerceptronAlgo(X,Y,alpha=0.02,nb_iteration=1)"
   ]
  },
  {
   "cell_type": "code",
   "execution_count": 73,
   "metadata": {},
   "outputs": [
    {
     "data": {
      "image/png": "[encoded data removed]",
      "text/plain": [
       "<Figure size 432x288 with 1 Axes>"
      ]
     },
     "metadata": {
      "needs_background": "light"
     },
     "output_type": "display_data"
    }
   ],
   "source": [
    "nb_iteration=100\n",
    "result=trainPerceptronAlgo(X,Y,alpha=0.02,nb_iteration=100)\n",
    "plt.scatter(X[:,0],X[:,1],c='y')\n",
    "vals=result[-1]\n",
    "theta=result[0][0]\n",
    "theta2=result[0][1]\n",
    "intercept=vals[1][0]\n",
    "y_pred=X*theta+intercept\n",
    "y_pred2=X*theta2+intercept\n",
    "plt.plot(X,y_pred,color=\"red\")\n",
    "plt.plot(X,y_pred2,color=\"red\")\n",
    "plt.title(\"после обучения : nb_iteration=%d\"%nb_iteration)\n",
    "plt.show()"
   ]
  },
  {
   "cell_type": "code",
   "execution_count": null,
   "metadata": {},
   "outputs": [],
   "source": []
  }
 ],
 "metadata": {
  "kernelspec": {
   "display_name": "Python 3",
   "language": "python",
   "name": "python3"
  },
  "language_info": {
   "codemirror_mode": {
    "name": "ipython",
    "version": 3
   },
   "file_extension": ".py",
   "mimetype": "text/x-python",
   "name": "python",
   "nbconvert_exporter": "python",
   "pygments_lexer": "ipython3",
   "version": "3.7.3"
  }
 },
 "nbformat": 4,
 "nbformat_minor": 2
}
